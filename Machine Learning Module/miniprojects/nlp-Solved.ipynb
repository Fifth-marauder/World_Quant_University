{
 "cells": [
  {
   "cell_type": "code",
   "execution_count": 36,
   "metadata": {
    "init_cell": true
   },
   "outputs": [],
   "source": [
    "%logstop\n",
    "%logstart -rtq ~/.logs/nlp.py append\n",
    "import seaborn as sns\n",
    "sns.set()"
   ]
  },
  {
   "cell_type": "code",
   "execution_count": 3,
   "metadata": {},
   "outputs": [],
   "source": [
    "from static_grader import grader"
   ]
  },
  {
   "cell_type": "markdown",
   "metadata": {},
   "source": [
    "# NLP Miniproject"
   ]
  },
  {
   "cell_type": "markdown",
   "metadata": {},
   "source": [
    "## Introduction\n",
    "\n",
    "The objective of this miniproject is to gain experience with natural language processing and how to use text data to train a machine learning model to make predictions. For the miniproject, we will be working with product review text from Amazon. The reviews are for only products in the \"Electronics\" category. The objective is to train a model to predict the rating, ranging from 1 to 5 stars.\n",
    "\n",
    "## Scoring\n",
    "\n",
    "For most of the questions, you will be asked to submit the `predict` method of your trained model to the grader. The grader will use the passed `predict` method to evaluate how your model performs on a test set with respect to a reference model. The grader uses the [R<sup>2</sup>-score](https://scikit-learn.org/stable/modules/model_evaluation.html#r2-score) for model evaluation. If your model performs better than the reference solution, then you can score higher than 1.0. For the last question, you will submit the results of an analysis and your passed answer will be compared directly to the reference solution.\n",
    "\n",
    "## Downloading and loading the data\n",
    "\n",
    "The data set is available on Amazon S3 and comes as a compressed file where each line is a JSON object. To load the data set, we will need to use the `gzip` library to open the file and decode each JSON into a Python dictionary. In the end, we have a list of dictionaries, where each dictionary represents an observation."
   ]
  },
  {
   "cell_type": "code",
   "execution_count": 5,
   "metadata": {},
   "outputs": [
    {
     "name": "stderr",
     "output_type": "stream",
     "text": [
      "mkdir: cannot create directory ‘data’: File exists\n",
      "File ‘./data/amazon_electronics_reviews_training.json.gz’ already there; not retrieving.\n",
      "\n"
     ]
    }
   ],
   "source": [
    "%%bash\n",
    "mkdir data\n",
    "wget http://dataincubator-wqu.s3.amazonaws.com/mldata/amazon_electronics_reviews_training.json.gz -nc -P ./data"
   ]
  },
  {
   "cell_type": "code",
   "execution_count": 4,
   "metadata": {},
   "outputs": [],
   "source": [
    "import gzip\n",
    "import ujson as json\n",
    "\n",
    "with gzip.open(\"data/amazon_electronics_reviews_training.json.gz\", \"r\") as f:                                  \n",
    "    data = [json.loads(line) for line in f]"
   ]
  },
  {
   "cell_type": "code",
   "execution_count": 7,
   "metadata": {},
   "outputs": [
    {
     "data": {
      "text/plain": [
       "[{'reviewerID': 'A238V1XTSK9NFE',\n",
       "  'asin': 'B00004VX3T',\n",
       "  'reviewerName': 'Andrew Lynn',\n",
       "  'helpful': [2, 2],\n",
       "  'reviewText': \"I bought this mouse to use with my laptop because I don't like those little touchpads.  I could not be happier.Since it's USB, I can plug it in with the computer already on and expect it to work automatically.  Since it's optical (the new kind, not to be confused with the old Sun optical mice that required a special checkered mouse pad) it works on most surfaces, including my pant legs, my couch, and random tables that I put my laptop down on.  It's also light and durable, features that help with portability.The wheel is surprisingly useful.  In addition to scrolling, it controls zoom and pan in programs like Autocad and 3D Studio Max.  I can no longer bear using either of these programs without it.One complaint - the software included with the Internet navigation features is useless.  Don't bother installing it if you have a newer Windows version that automatically supports wheel mice.  Just plug it in and use it - it's that easy.\",\n",
       "  'overall': 5.0,\n",
       "  'summary': 'Excellent mouse for laptop users',\n",
       "  'unixReviewTime': 1007942400,\n",
       "  'reviewTime': '12 10, 2001'},\n",
       " {'reviewerID': 'AZIXMVXLE11G3',\n",
       "  'asin': 'B0000A98AC',\n",
       "  'reviewerName': 'Waldorf1',\n",
       "  'helpful': [0, 0],\n",
       "  'reviewText': 'One by one, all of the discs went bad within a 6 months period. It was a real pain. As a result, I would tend to not buy Memorex discs again.',\n",
       "  'overall': 1.0,\n",
       "  'summary': 'Memorex Discs',\n",
       "  'unixReviewTime': 1394928000,\n",
       "  'reviewTime': '03 16, 2014'},\n",
       " {'reviewerID': 'A1RN5RHN4U67CT',\n",
       "  'asin': 'B000066E6Y',\n",
       "  'reviewerName': 'Paul Porter',\n",
       "  'helpful': [0, 0],\n",
       "  'reviewText': 'Easy to install.  Works well.  No complaints.  Decent (not great) value.  Works better than the first amplifier (different brand) that I purchased.',\n",
       "  'overall': 4.0,\n",
       "  'summary': 'works as advertised',\n",
       "  'unixReviewTime': 1329177600,\n",
       "  'reviewTime': '02 14, 2012'},\n",
       " {'reviewerID': 'A239DIJJXX6MSW',\n",
       "  'asin': 'B000234I6C',\n",
       "  'reviewerName': 'ThunderStick',\n",
       "  'helpful': [0, 0],\n",
       "  'reviewText': 'This item was exactly what I was looking for.  I purchased a low featured samsung surround sound system but then realized I needed more optical inputs to take advantage of it.  The manual turn switches looked cheap and unusable.  This was perfect being able to remotely control it.Definitely worth every dime spent on it.',\n",
       "  'overall': 5.0,\n",
       "  'summary': 'Works Great, no Complaints at all',\n",
       "  'unixReviewTime': 1308960000,\n",
       "  'reviewTime': '06 25, 2011'},\n",
       " {'reviewerID': 'A308H0NWZEUBMN',\n",
       "  'asin': 'B00008X5DD',\n",
       "  'reviewerName': 'tyrone bass',\n",
       "  'helpful': [0, 0],\n",
       "  'reviewText': 'I purchased this to replace my vcr dvd combo. because I had no way to run cable out of the wall to RCA  for the rest of my system. this box will not do it. this box will work with RCA to RCA  not coax to RCA. I have the same problem, no way to connect to the wall cable. None of the newer dvd or vcr  will take coax cable in.',\n",
       "  'overall': 3.0,\n",
       "  'summary': 'Not the box i need.',\n",
       "  'unixReviewTime': 1378080000,\n",
       "  'reviewTime': '09 2, 2013'},\n",
       " {'reviewerID': 'A1I1H1EHPOH6ZW',\n",
       "  'asin': 'B00000JI4F',\n",
       "  'reviewerName': 'Terry W. Coggins',\n",
       "  'helpful': [0, 0],\n",
       "  'reviewText': \"This review is for the Sabrent USB 1.44 MB 2x Floppy Disk Drive (FL-UDRV) Black.  It's a well built, quality floppy disk drive that comes with a hardwired USB 2.0 cable for connection to the computer.  There's really not much to say except that it works ---- simple setup, plug and wait for drivers to load and install --- then use the drive.  How hard is that?\",\n",
       "  'overall': 5.0,\n",
       "  'summary': 'Good External Floppy Drive',\n",
       "  'unixReviewTime': 1392595200,\n",
       "  'reviewTime': '02 17, 2014'},\n",
       " {'reviewerID': 'A85SZOLWOWFFA',\n",
       "  'asin': 'B00004ZCAT',\n",
       "  'reviewerName': 'Jean Sullivan \"Jean on the Road\"',\n",
       "  'helpful': [0, 4],\n",
       "  'reviewText': \"This works well for skys, but it can cause vignetting, especially if using it without any sky showing.I'm using it on a Nikon D90 with both an 18 - 105 and a 70 - 300 lens.It's possible there are secrets to using it that I don't know.  I have only tried it on one shooting expedition.  If I use it again and like it better I'll update my review.  And if anyone has any suggestions about how to use it, I'll be glad to hear them.\",\n",
       "  'overall': 3.0,\n",
       "  'summary': 'Easy To Use, Causes Some Vignetting',\n",
       "  'unixReviewTime': 1263168000,\n",
       "  'reviewTime': '01 11, 2010'},\n",
       " {'reviewerID': 'AAPKD0X6BA47C',\n",
       "  'asin': 'B00009R6UU',\n",
       "  'reviewerName': 'mannmtn \"maninthemountains\"',\n",
       "  'helpful': [0, 0],\n",
       "  'reviewText': 'This was a \"real\" Canon lens hood, stamped Canon EW-60C Japan, unlike the ET-60 I got from another seller (which was returned). Quality material and fits the lens as it should, without hassle, lens cap fits on after hood installed. Could be just a little \"longer\", like the ET-60 could be a little \"shorter\".',\n",
       "  'overall': 5.0,\n",
       "  'summary': 'Excellent Product',\n",
       "  'unixReviewTime': 1296950400,\n",
       "  'reviewTime': '02 6, 2011'},\n",
       " {'reviewerID': 'A3H9XHE40U4MT1',\n",
       "  'asin': 'B0001FTVEK',\n",
       "  'reviewerName': 'James White',\n",
       "  'helpful': [0, 0],\n",
       "  'reviewText': 'Good sound quality (Sennheiser products are 1000 times better than Bose).  Signal transmits well through my cabinet, can adjust the frequency and the volume from the headphones themselves without getting up.  Only problem with them is they are a little stiff so if you move around a lot, they can fall off. Otherwise fantastic.',\n",
       "  'overall': 4.0,\n",
       "  'summary': 'Works Great',\n",
       "  'unixReviewTime': 1356220800,\n",
       "  'reviewTime': '12 23, 2012'},\n",
       " {'reviewerID': 'A2T1IDDWHRUYN8',\n",
       "  'asin': 'B0001FTVEK',\n",
       "  'reviewerName': 'Hromit',\n",
       "  'helpful': [1, 1],\n",
       "  'reviewText': 'I used to have a Sony headset - this one is much better in terms of sound quality and reach around the room. The construction is such that the ears get a little warm (because I wear it when I work out) but not uncomfortable and the sound is truly remarkable. The build is solid, charging is easy.',\n",
       "  'overall': 5.0,\n",
       "  'summary': 'Excellent product',\n",
       "  'unixReviewTime': 1288828800,\n",
       "  'reviewTime': '11 4, 2010'}]"
      ]
     },
     "execution_count": 7,
     "metadata": {},
     "output_type": "execute_result"
    }
   ],
   "source": [
    "data[:10]"
   ]
  },
  {
   "cell_type": "code",
   "execution_count": 67,
   "metadata": {},
   "outputs": [
    {
     "data": {
      "text/plain": [
       "5.0"
      ]
     },
     "execution_count": 67,
     "metadata": {},
     "output_type": "execute_result"
    }
   ],
   "source": [
    "data[0]['overall']"
   ]
  },
  {
   "cell_type": "code",
   "execution_count": 68,
   "metadata": {},
   "outputs": [
    {
     "data": {
      "text/plain": [
       "60000"
      ]
     },
     "execution_count": 68,
     "metadata": {},
     "output_type": "execute_result"
    }
   ],
   "source": [
    "len(data)"
   ]
  },
  {
   "cell_type": "markdown",
   "metadata": {},
   "source": [
    "The ratings are stored in the keyword `\"overall\"`. You should create an array of the ratings for each review, preferably using list comprehensions."
   ]
  },
  {
   "cell_type": "code",
   "execution_count": 5,
   "metadata": {},
   "outputs": [
    {
     "data": {
      "text/plain": [
       "[5.0, 1.0, 4.0, 5.0, 3.0, 5.0, 3.0, 5.0, 4.0, 5.0]"
      ]
     },
     "execution_count": 5,
     "metadata": {},
     "output_type": "execute_result"
    }
   ],
   "source": [
    "ratings = [ data[i]['overall'] for i in range(0,len(data))]\n",
    "ratings[:10]"
   ]
  },
  {
   "cell_type": "markdown",
   "metadata": {},
   "source": [
    "**Note**, the test set used by the grader is in the same format as that of `data`, a list of dictionaries. Your trained model needs to accept data in the same format. Thus, you should use `Pipeline` when constructing your model so that all necessary transformation needed are encapsulated into a single estimator object."
   ]
  },
  {
   "cell_type": "markdown",
   "metadata": {},
   "source": [
    "## Question 1: Bag of words model\n",
    "\n",
    "Construct a machine learning model trained on word counts using the bag of words algorithm. Remember, the bag of words is implemented with `CountVectorizer`. Some things you should consider:\n",
    "\n",
    "* The reference solution uses a linear model and you should as well; use either `Ridge` or `SGDRegressor`.\n",
    "* The text review is stored in the key `\"reviewText\"`. You will need to construct a custom transformer to extract out the value of this key. It will be the first step in your pipeline.\n",
    "* Consider what hyperparameters you will need to tune for your model.\n",
    "* Subsampling the training data will boost training times, which will be helpful when determining the best hyperparameters to use. Note, your final model will perform best if it is trained on the full data set.\n",
    "* Including stop words may help with performance."
   ]
  },
  {
   "cell_type": "code",
   "execution_count": 28,
   "metadata": {},
   "outputs": [],
   "source": [
    "import spacy\n",
    "\n",
    "nlp=spacy.load('en')"
   ]
  },
  {
   "cell_type": "code",
   "execution_count": 71,
   "metadata": {},
   "outputs": [],
   "source": [
    "# def reviews_to_docs(data):\n",
    "#     sentences=[]\n",
    "#     for i in range(0,len(data)):\n",
    "#         sentences+=nlp(data[i]['reviewText'])\n",
    "#     return sentences\n",
    "        \n",
    "# reviews_to_docs(data)[:10]"
   ]
  },
  {
   "cell_type": "code",
   "execution_count": 6,
   "metadata": {},
   "outputs": [],
   "source": [
    "from sklearn.base import BaseEstimator,TransformerMixin\n",
    "\n",
    "class KeyTransformer(BaseEstimator,TransformerMixin):\n",
    "    def __init__(self,key):\n",
    "        self.key=key\n",
    "        \n",
    "    def fit(self,X,y=None):\n",
    "        return self\n",
    "    \n",
    "    def transform(self,X):\n",
    "        return  [ d[self.key] for d in X]"
   ]
  },
  {
   "cell_type": "code",
   "execution_count": 7,
   "metadata": {},
   "outputs": [
    {
     "data": {
      "text/plain": [
       "[\"I bought this mouse to use with my laptop because I don't like those little touchpads.  I could not be happier.Since it's USB, I can plug it in with the computer already on and expect it to work automatically.  Since it's optical (the new kind, not to be confused with the old Sun optical mice that required a special checkered mouse pad) it works on most surfaces, including my pant legs, my couch, and random tables that I put my laptop down on.  It's also light and durable, features that help with portability.The wheel is surprisingly useful.  In addition to scrolling, it controls zoom and pan in programs like Autocad and 3D Studio Max.  I can no longer bear using either of these programs without it.One complaint - the software included with the Internet navigation features is useless.  Don't bother installing it if you have a newer Windows version that automatically supports wheel mice.  Just plug it in and use it - it's that easy.\",\n",
       " 'One by one, all of the discs went bad within a 6 months period. It was a real pain. As a result, I would tend to not buy Memorex discs again.',\n",
       " 'Easy to install.  Works well.  No complaints.  Decent (not great) value.  Works better than the first amplifier (different brand) that I purchased.',\n",
       " 'This item was exactly what I was looking for.  I purchased a low featured samsung surround sound system but then realized I needed more optical inputs to take advantage of it.  The manual turn switches looked cheap and unusable.  This was perfect being able to remotely control it.Definitely worth every dime spent on it.',\n",
       " 'I purchased this to replace my vcr dvd combo. because I had no way to run cable out of the wall to RCA  for the rest of my system. this box will not do it. this box will work with RCA to RCA  not coax to RCA. I have the same problem, no way to connect to the wall cable. None of the newer dvd or vcr  will take coax cable in.']"
      ]
     },
     "execution_count": 7,
     "metadata": {},
     "output_type": "execute_result"
    }
   ],
   "source": [
    "kt=KeyTransformer('reviewText')\n",
    "x=kt.fit_transform(data)\n",
    "x[:5]"
   ]
  },
  {
   "cell_type": "code",
   "execution_count": 74,
   "metadata": {},
   "outputs": [],
   "source": [
    "CountVectorizer?"
   ]
  },
  {
   "cell_type": "code",
   "execution_count": 75,
   "metadata": {},
   "outputs": [
    {
     "name": "stdout",
     "output_type": "stream",
     "text": [
      "60000\n",
      "60000\n"
     ]
    }
   ],
   "source": [
    "print(len(x))\n",
    "print(len(ratings))"
   ]
  },
  {
   "cell_type": "code",
   "execution_count": 8,
   "metadata": {},
   "outputs": [],
   "source": [
    "from sklearn.feature_extraction.text import CountVectorizer,HashingVectorizer\n",
    "from spacy.lang.en import STOP_WORDS\n",
    "from sklearn.linear_model import SGDRegressor,Ridge\n",
    "from sklearn.pipeline import Pipeline\n",
    "\n",
    "\n",
    "bag_of_words=HashingVectorizer(stop_words=STOP_WORDS)\n",
    "\n",
    "# pipe=Pipeline([('BOW',bag_of_words),('reg',SGDRegressor())])\n",
    "# pipe.fit(x, ratings)\n",
    "\n",
    "# print(\"Training accuracy: {}\".format(pipe.score(x, ratings)))"
   ]
  },
  {
   "cell_type": "code",
   "execution_count": 80,
   "metadata": {},
   "outputs": [
    {
     "name": "stderr",
     "output_type": "stream",
     "text": [
      "/opt/conda/lib/python3.8/site-packages/sklearn/feature_extraction/text.py:383: UserWarning: Your stop_words may be inconsistent with your preprocessing. Tokenizing the stop words generated tokens ['ll', 've'] not in stop_words.\n",
      "  warnings.warn('Your stop_words may be inconsistent with '\n"
     ]
    },
    {
     "name": "stdout",
     "output_type": "stream",
     "text": [
      "Training accuracy: 0.5501193017730213\n"
     ]
    }
   ],
   "source": [
    "\n",
    "bag_of_words_model = Pipeline([('kt',KeyTransformer('reviewText')),('BOW',bag_of_words),('reg',Ridge())])\n",
    "bag_of_words_model.fit(data,ratings)\n",
    "\n",
    "print(\"Training accuracy: {}\".format(bag_of_words_model.score(data, ratings)))"
   ]
  },
  {
   "cell_type": "code",
   "execution_count": 81,
   "metadata": {},
   "outputs": [
    {
     "name": "stdout",
     "output_type": "stream",
     "text": [
      "==================\n",
      "Your score: 1.761\n",
      "==================\n"
     ]
    }
   ],
   "source": [
    "grader.score.nlp__bag_of_words_model(bag_of_words_model.predict)"
   ]
  },
  {
   "cell_type": "markdown",
   "metadata": {},
   "source": [
    "## Question 2: Normalized model\n",
    "\n",
    "Using raw counts will not be as effective compared if we had normalized the counts. There are several ways to normalize raw counts; the `HashingVectorizer` class has the keyword `norm` and there is also the `TfidfTransformer` and `TfidfVectorizer` that perform tf-idf weighting on the counts. Apply normalization to your model to improve performance."
   ]
  },
  {
   "cell_type": "code",
   "execution_count": 9,
   "metadata": {},
   "outputs": [],
   "source": [
    "from sklearn.feature_extraction.text import TfidfVectorizer"
   ]
  },
  {
   "cell_type": "code",
   "execution_count": 18,
   "metadata": {},
   "outputs": [],
   "source": [
    "TfidfVectorizer?"
   ]
  },
  {
   "cell_type": "code",
   "execution_count": 16,
   "metadata": {},
   "outputs": [
    {
     "name": "stdout",
     "output_type": "stream",
     "text": [
      "Training accuracy: 0.6082635357154005\n"
     ]
    }
   ],
   "source": [
    "tfidf = TfidfVectorizer()\n",
    "normalized_model = Pipeline([('kt',KeyTransformer('reviewText')),('tfidf',tfidf),('reg',Ridge())])\n",
    "normalized_model.fit(data,ratings)\n",
    "\n",
    "print(\"Training accuracy: {}\".format(normalized_model.score(data, ratings)))"
   ]
  },
  {
   "cell_type": "code",
   "execution_count": 17,
   "metadata": {},
   "outputs": [
    {
     "name": "stdout",
     "output_type": "stream",
     "text": [
      "==================\n",
      "Your score: 1.059\n",
      "==================\n"
     ]
    }
   ],
   "source": [
    "grader.score.nlp__normalized_model(normalized_model.predict)"
   ]
  },
  {
   "cell_type": "markdown",
   "metadata": {},
   "source": [
    "## Question 3: Bigrams model\n",
    "\n",
    "The model performance may increase when including additional features generated by counting bigrams. Include bigrams to your model. When using more features, the risk of overfitting increases. Make sure you try to minimize overfitting as much as possible."
   ]
  },
  {
   "cell_type": "code",
   "execution_count": 10,
   "metadata": {},
   "outputs": [],
   "source": [
    "hash_bi = HashingVectorizer(ngram_range=(1,2))\n",
    "bigrams_model = Pipeline([('kt',KeyTransformer('reviewText')),('hash_bi',hash_bi),('reg',Ridge())])"
   ]
  },
  {
   "cell_type": "code",
   "execution_count": 11,
   "metadata": {},
   "outputs": [
    {
     "name": "stdout",
     "output_type": "stream",
     "text": [
      "Training accuracy: 0.6982230059362742\n"
     ]
    }
   ],
   "source": [
    "bigrams_model.fit(data,ratings)\n",
    "\n",
    "print(\"Training accuracy: {}\".format(bigrams_model.score(data, ratings)))"
   ]
  },
  {
   "cell_type": "code",
   "execution_count": 12,
   "metadata": {},
   "outputs": [
    {
     "name": "stdout",
     "output_type": "stream",
     "text": [
      "==================\n",
      "Your score: 1.152\n",
      "==================\n"
     ]
    }
   ],
   "source": [
    "grader.score.nlp__bigrams_model(bigrams_model.predict)"
   ]
  },
  {
   "cell_type": "markdown",
   "metadata": {},
   "source": [
    "## Question 4: Polarity analysis\n",
    "\n",
    "Let's derive some insight from our analysis. We want to determine the most polarizing words in the corpus of reviews. In other words, we want identify words that strongly signal a review is either positive or negative. For example, we understand a word like \"terrible\" will mostly appear in negative rather than positive reviews. The naive Bayes model calculates probabilities such as $P(\\text{terrible } | \\text{ negative})$, the probability the word \"terrible\" appears in the text, given that the review is negative. Using these probabilities, we can derive a **polarity score** for each counted word,\n",
    "\n",
    "$$\n",
    "\\text{polarity} =  \\log\\left(\\frac{P(\\text{word } | \\text{ positive})}{P(\\text{word } | \\text{ negative})}\\right).\n",
    "$$ \n",
    "\n",
    "The polarity analysis is an example where a simpler model offers more explicability than a more complicated model. For this question, you are asked to determine the top twenty-five words with the largest positive **and** largest negative polarity, for a total of fifty words. For this analysis, you should:\n",
    "\n",
    "1. Use the naive Bayes model, `MultinomialNB`.\n",
    "1. Use tf-idf weighting.\n",
    "1. Remove stop words.\n",
    "\n",
    "A trained naive Bayes model stores the log of the probabilities in the attribute `feature_log_prob_`. It is a NumPy array of shape (number of classes, the number of features). You will need the mapping between feature index to word. For this problem, you will use a different data set; it has been processed to only include reviews with one and five stars. You can download it below."
   ]
  },
  {
   "cell_type": "code",
   "execution_count": 15,
   "metadata": {},
   "outputs": [
    {
     "name": "stderr",
     "output_type": "stream",
     "text": [
      "--2021-05-09 08:03:08--  http://dataincubator-wqu.s3.amazonaws.com/mldata/amazon_one_and_five_star_reviews.json.gz\n",
      "Resolving dataincubator-wqu.s3.amazonaws.com (dataincubator-wqu.s3.amazonaws.com)... 52.217.163.217\n",
      "Connecting to dataincubator-wqu.s3.amazonaws.com (dataincubator-wqu.s3.amazonaws.com)|52.217.163.217|:80... connected.\n",
      "HTTP request sent, awaiting response... 200 OK\n",
      "Length: 2970853 (2.8M) [application/x-gzip]\n",
      "Saving to: ‘./data/amazon_one_and_five_star_reviews.json.gz’\n",
      "\n",
      "     0K .......... .......... .......... .......... ..........  1% 3.45M 1s\n",
      "    50K .......... .......... .......... .......... ..........  3% 6.83M 1s\n",
      "   100K .......... .......... .......... .......... ..........  5% 57.4M 0s\n",
      "   150K .......... .......... .......... .......... ..........  6% 7.35M 0s\n",
      "   200K .......... .......... .......... .......... ..........  8% 60.1M 0s\n",
      "   250K .......... .......... .......... .......... .......... 10% 56.1M 0s\n",
      "   300K .......... .......... .......... .......... .......... 12% 9.78M 0s\n",
      "   350K .......... .......... .......... .......... .......... 13% 59.3M 0s\n",
      "   400K .......... .......... .......... .......... .......... 15% 61.6M 0s\n",
      "   450K .......... .......... .......... .......... .......... 17% 63.6M 0s\n",
      "   500K .......... .......... .......... .......... .......... 18% 55.9M 0s\n",
      "   550K .......... .......... .......... .......... .......... 20% 61.1M 0s\n",
      "   600K .......... .......... .......... .......... .......... 22% 59.3M 0s\n",
      "   650K .......... .......... .......... .......... .......... 24% 40.4M 0s\n",
      "   700K .......... .......... .......... .......... .......... 25%  312M 0s\n",
      "   750K .......... .......... .......... .......... .......... 27% 39.1M 0s\n",
      "   800K .......... .......... .......... .......... .......... 29%  180M 0s\n",
      "   850K .......... .......... .......... .......... .......... 31%  323M 0s\n",
      "   900K .......... .......... .......... .......... .......... 32%  346M 0s\n",
      "   950K .......... .......... .......... .......... .......... 34%  290M 0s\n",
      "  1000K .......... .......... .......... .......... .......... 36% 59.2M 0s\n",
      "  1050K .......... .......... .......... .......... .......... 37% 62.5M 0s\n",
      "  1100K .......... .......... .......... .......... .......... 39% 61.7M 0s\n",
      "  1150K .......... .......... .......... .......... .......... 41% 53.9M 0s\n",
      "  1200K .......... .......... .......... .......... .......... 43% 11.4M 0s\n",
      "  1250K .......... .......... .......... .......... .......... 44% 33.1M 0s\n",
      "  1300K .......... .......... .......... .......... .......... 46% 61.1M 0s\n",
      "  1350K .......... .......... .......... .......... .......... 48% 34.7M 0s\n",
      "  1400K .......... .......... .......... .......... .......... 49% 47.6M 0s\n",
      "  1450K .......... .......... .......... .......... .......... 51% 51.4M 0s\n",
      "  1500K .......... .......... .......... .......... .......... 53% 83.1M 0s\n",
      "  1550K .......... .......... .......... .......... .......... 55%  280M 0s\n",
      "  1600K .......... .......... .......... .......... .......... 56%  321M 0s\n",
      "  1650K .......... .......... .......... .......... .......... 58%  326M 0s\n",
      "  1700K .......... .......... .......... .......... .......... 60%  290M 0s\n",
      "  1750K .......... .......... .......... .......... .......... 62%  294M 0s\n",
      "  1800K .......... .......... .......... .......... .......... 63%  297M 0s\n",
      "  1850K .......... .......... .......... .......... .......... 65%  333M 0s\n",
      "  1900K .......... .......... .......... .......... .......... 67%  344M 0s\n",
      "  1950K .......... .......... .......... .......... .......... 68%  243M 0s\n",
      "  2000K .......... .......... .......... .......... .......... 70%  334M 0s\n",
      "  2050K .......... .......... .......... .......... .......... 72%  301M 0s\n",
      "  2100K .......... .......... .......... .......... .......... 74% 68.2M 0s\n",
      "  2150K .......... .......... .......... .......... .......... 75% 45.3M 0s\n",
      "  2200K .......... .......... .......... .......... .......... 77% 39.5M 0s\n",
      "  2250K .......... .......... .......... .......... .......... 79% 55.8M 0s\n",
      "  2300K .......... .......... .......... .......... .......... 81% 45.9M 0s\n",
      "  2350K .......... .......... .......... .......... .......... 82% 39.4M 0s\n",
      "  2400K .......... .......... .......... .......... .......... 84% 45.0M 0s\n",
      "  2450K .......... .......... .......... .......... .......... 86% 54.4M 0s\n",
      "  2500K .......... .......... .......... .......... .......... 87% 46.0M 0s\n",
      "  2550K .......... .......... .......... .......... .......... 89%  222M 0s\n",
      "  2600K .......... .......... .......... .......... .......... 91%  251M 0s\n",
      "  2650K .......... .......... .......... .......... .......... 93%  318M 0s\n",
      "  2700K .......... .......... .......... .......... .......... 94%  241M 0s\n",
      "  2750K .......... .......... .......... .......... .......... 96%  197M 0s\n",
      "  2800K .......... .......... .......... .......... .......... 98%  260M 0s\n",
      "  2850K .......... .......... .......... .......... .......... 99%  297M 0s\n",
      "  2900K .                                                     100% 2334G=0.07s\n",
      "\n",
      "2021-05-09 08:03:08 (40.5 MB/s) - ‘./data/amazon_one_and_five_star_reviews.json.gz’ saved [2970853/2970853]\n",
      "\n"
     ]
    }
   ],
   "source": [
    "%%bash\n",
    "wget http://dataincubator-wqu.s3.amazonaws.com/mldata/amazon_one_and_five_star_reviews.json.gz -nc -P ./data"
   ]
  },
  {
   "cell_type": "markdown",
   "metadata": {},
   "source": [
    "In order to avoid memory issues, let's delete the older data."
   ]
  },
  {
   "cell_type": "code",
   "execution_count": 16,
   "metadata": {},
   "outputs": [],
   "source": [
    "del data, ratings"
   ]
  },
  {
   "cell_type": "code",
   "execution_count": 19,
   "metadata": {},
   "outputs": [],
   "source": [
    "import numpy as np\n",
    "from sklearn.naive_bayes import MultinomialNB\n",
    "\n",
    "with gzip.open(\"data/amazon_one_and_five_star_reviews.json.gz\", \"r\") as f:\n",
    "    data_polarity = [json.loads(line) for line in f]\n",
    "\n",
    "ratings = ...\n"
   ]
  },
  {
   "cell_type": "code",
   "execution_count": 24,
   "metadata": {},
   "outputs": [
    {
     "data": {
      "text/plain": [
       "[{'reviewerID': 'A31RSJTGLVV3TR',\n",
       "  'asin': 'B000093UDP',\n",
       "  'reviewerName': 'T. Wayne',\n",
       "  'helpful': [11, 12],\n",
       "  'reviewText': \"This worked perfectly for about 8 rewinds.  But once it eats one of your precious tapes you'll probably be as dissapointed as I was.  Buyer beware... these rewinders are mostly the same look; but marketed by different companies.  They all eat tape.\",\n",
       "  'overall': 1.0,\n",
       "  'summary': \"It's a super tape-eater\",\n",
       "  'unixReviewTime': 1210550400,\n",
       "  'reviewTime': '05 12, 2008'},\n",
       " {'reviewerID': 'A2Y739CRM15WDL',\n",
       "  'asin': 'B00005MNSR',\n",
       "  'reviewerName': 'Sires \"I like mysteries (particularly British...',\n",
       "  'helpful': [0, 0],\n",
       "  'reviewText': \"This was a choice in my gold box or I might not have bought it. I would have been missing out on a very good monitor if I hadn't.I just bought a new 2.53 gigahertz multi media computer running XP home edition and wanted a monitor with a small footprint but still able to handle graphics intense functions.  Set up was a breeze.  I just plugged it in and it was recognized at once.  While I normally use a 17 inch monitor, I have to say that this 15 inch LCD monitor was easier to read, especially at a distance.I am definitely pleased with this product.\",\n",
       "  'overall': 5.0,\n",
       "  'summary': 'Well worth the Money',\n",
       "  'unixReviewTime': 1039996800,\n",
       "  'reviewTime': '12 16, 2002'}]"
      ]
     },
     "execution_count": 24,
     "metadata": {},
     "output_type": "execute_result"
    }
   ],
   "source": [
    "data_polarity[:2]"
   ]
  },
  {
   "cell_type": "code",
   "execution_count": 23,
   "metadata": {},
   "outputs": [
    {
     "data": {
      "text/plain": [
       "[1.0, 5.0]"
      ]
     },
     "execution_count": 23,
     "metadata": {},
     "output_type": "execute_result"
    }
   ],
   "source": [
    "ratings=[X['overall'] for X in data_polarity]\n",
    "ratings[:2]"
   ]
  },
  {
   "cell_type": "code",
   "execution_count": 29,
   "metadata": {},
   "outputs": [],
   "source": [
    "stop_words_str = \" \".join(STOP_WORDS)\n",
    "stop_words_lemma = set(word.lemma_.lower() for word in nlp(stop_words_str))"
   ]
  },
  {
   "cell_type": "code",
   "execution_count": 33,
   "metadata": {},
   "outputs": [],
   "source": [
    "def lemmatizer(text):\n",
    "    return [word.lemma_.lower() for word in nlp(text)]"
   ]
  },
  {
   "cell_type": "code",
   "execution_count": 34,
   "metadata": {},
   "outputs": [
    {
     "name": "stdout",
     "output_type": "stream",
     "text": [
      "Training accuracy: 0.8994\n"
     ]
    }
   ],
   "source": [
    "tfidf = TfidfVectorizer(stop_words=stop_words_lemma, tokenizer=lemmatizer, ngram_range=(1, 1))\n",
    "most_polar = Pipeline([('kt',KeyTransformer('reviewText')),('vectorizer', tfidf), ('classifier', MultinomialNB())])\n",
    "most_polar.fit(data_polarity, ratings)\n",
    "\n",
    "print(\"Training accuracy: {}\".format(most_polar.score(data_polarity, ratings)))"
   ]
  },
  {
   "cell_type": "code",
   "execution_count": 37,
   "metadata": {},
   "outputs": [],
   "source": [
    "#get features (vocab) from model\n",
    "feat_to_token = most_polar['vectorizer'].get_feature_names()\n",
    "\n",
    "#get the log probability from model\n",
    "log_prob = most_polar['classifier'].feature_log_prob_\n",
    "\n",
    "#collapse log probability into one row\n",
    "polarity = log_prob[0, :] - log_prob[1, :]\n",
    "\n",
    "#combine polarity and feature names\n",
    "most_polar = sorted(list(zip(polarity, feat_to_token)))"
   ]
  },
  {
   "cell_type": "code",
   "execution_count": 38,
   "metadata": {},
   "outputs": [],
   "source": [
    "n=25\n",
    "most_polar = most_polar[:n] + most_polar[-n:]"
   ]
  },
  {
   "cell_type": "code",
   "execution_count": 39,
   "metadata": {},
   "outputs": [],
   "source": [
    "top_50 = [term for score, term in most_polar]"
   ]
  },
  {
   "cell_type": "code",
   "execution_count": 40,
   "metadata": {},
   "outputs": [
    {
     "name": "stdout",
     "output_type": "stream",
     "text": [
      "==================\n",
      "Your score: 0.900\n",
      "==================\n"
     ]
    }
   ],
   "source": [
    "grader.score.nlp__most_polar(top_50)"
   ]
  },
  {
   "cell_type": "markdown",
   "metadata": {},
   "source": [
    "## Question 5: Topic modeling [optional]\n",
    "\n",
    "Topic modeling is the analysis of determining the key topics or themes in a corpus. With respect to machine learning, topic modeling is an unsupervised technique. One way to uncover the main topics in a corpus is to use [non-negative matrix factorization](https://scikit-learn.org/stable/modules/generated/sklearn.decomposition.NMF.html). For this question, use non-negative matrix factorization to determine the top ten words for the first twenty topics. You should submit your answer as a list of lists. What topics exist in the reviews?"
   ]
  },
  {
   "cell_type": "code",
   "execution_count": null,
   "metadata": {},
   "outputs": [],
   "source": [
    "from sklearn.decomposition import NMF\n",
    " "
   ]
  },
  {
   "cell_type": "markdown",
   "metadata": {},
   "source": [
    "*Copyright &copy; 2021 WorldQuant University. This content is licensed solely for personal use. Redistribution or publication of this material is strictly prohibited.*"
   ]
  }
 ],
 "metadata": {
  "kernelspec": {
   "display_name": "Python 3",
   "language": "python",
   "name": "python3"
  },
  "language_info": {
   "codemirror_mode": {
    "name": "ipython",
    "version": 3
   },
   "file_extension": ".py",
   "mimetype": "text/x-python",
   "name": "python",
   "nbconvert_exporter": "python",
   "pygments_lexer": "ipython3",
   "version": "3.8.8"
  },
  "nbclean": true
 },
 "nbformat": 4,
 "nbformat_minor": 1
}
